{
 "cells": [
  {
   "cell_type": "code",
   "execution_count": 1,
   "metadata": {},
   "outputs": [
    {
     "name": "stdout",
     "output_type": "stream",
     "text": [
      "                                    Series_Title                      Genre  \\\n",
      "0                       The Shawshank Redemption                      Drama   \n",
      "1                                  The Godfather               Crime, Drama   \n",
      "2                                The Dark Knight       Action, Crime, Drama   \n",
      "3                         The Godfather: Part II               Crime, Drama   \n",
      "4                                   12 Angry Men               Crime, Drama   \n",
      "5  The Lord of the Rings: The Return of the King   Action, Adventure, Drama   \n",
      "6                                   Pulp Fiction               Crime, Drama   \n",
      "7                               Schindler's List  Biography, Drama, History   \n",
      "8                                      Inception  Action, Adventure, Sci-Fi   \n",
      "9                                     Fight Club                      Drama   \n",
      "\n",
      "                                            Overview              Director  \n",
      "0  Two imprisoned men bond over a number of years...        Frank Darabont  \n",
      "1  An organized crime dynasty's aging patriarch t...  Francis Ford Coppola  \n",
      "2  When the menace known as the Joker wreaks havo...     Christopher Nolan  \n",
      "3  The early life and career of Vito Corleone in ...  Francis Ford Coppola  \n",
      "4  A jury holdout attempts to prevent a miscarria...          Sidney Lumet  \n",
      "5  Gandalf and Aragorn lead the World of Men agai...         Peter Jackson  \n",
      "6  The lives of two mob hitmen, a boxer, a gangst...     Quentin Tarantino  \n",
      "7  In German-occupied Poland during World War II,...      Steven Spielberg  \n",
      "8  A thief who steals corporate secrets through t...     Christopher Nolan  \n",
      "9  An insomniac office worker and a devil-may-car...         David Fincher  \n"
     ]
    }
   ],
   "source": [
    "#Name: Devarsh Vora\n",
    "\n",
    "import kaggle\n",
    "import pandas as pd\n",
    "import zipfile\n",
    "import transformers\n",
    "# Authenticate with Kaggle API\n",
    "kaggle.api.authenticate()\n",
    "\n",
    "# Download dataset\n",
    "dataset = \"harshitshankhdhar/imdb-dataset-of-top-1000-movies-and-tv-shows\"\n",
    "kaggle.api.dataset_download_files(dataset)\n",
    "\n",
    "# Extract the downloaded zip file\n",
    "with zipfile.ZipFile(\"imdb-dataset-of-top-1000-movies-and-tv-shows.zip\", \"r\") as zip_ref:\n",
    "    zip_ref.extractall(\".\")\n",
    "\n",
    "# Read the dataset into a DataFrame\n",
    "movies = pd.read_csv(\"imdb_top_1000.csv\")\n",
    "\n",
    "# Keep only desired columns\n",
    "desired_columns = ['Series_Title', 'Genre', 'Overview', 'Director']\n",
    "movies = movies[desired_columns]\n",
    "\n",
    "# Display selected columns\n",
    "print(movies.head(10))\n"
   ]
  },
  {
   "cell_type": "code",
   "execution_count": 2,
   "metadata": {},
   "outputs": [
    {
     "data": {
      "text/plain": [
       "Dataset({\n",
       "    features: ['Series_Title', 'Genre', 'Overview', 'Director'],\n",
       "    num_rows: 1000\n",
       "})"
      ]
     },
     "execution_count": 2,
     "metadata": {},
     "output_type": "execute_result"
    }
   ],
   "source": [
    "#Converting pandas dataframe to Huggingface dataset\n",
    "from datasets import Dataset\n",
    "movie_dataset = Dataset.from_pandas(movies)\n",
    "movie_dataset"
   ]
  },
  {
   "cell_type": "code",
   "execution_count": 3,
   "metadata": {},
   "outputs": [
    {
     "data": {
      "application/vnd.jupyter.widget-view+json": {
       "model_id": "33618f6a8fdb4866b0b403713134ac1e",
       "version_major": 2,
       "version_minor": 0
      },
      "text/plain": [
       "Map:   0%|          | 0/1000 [00:00<?, ? examples/s]"
      ]
     },
     "metadata": {},
     "output_type": "display_data"
    },
    {
     "data": {
      "text/plain": [
       "Dataset({\n",
       "    features: ['Series_Title', 'Genre', 'Overview', 'Director', 'text'],\n",
       "    num_rows: 1000\n",
       "})"
      ]
     },
     "execution_count": 3,
     "metadata": {},
     "output_type": "execute_result"
    }
   ],
   "source": [
    "#Concatenating all the text field \n",
    "def concatenate_text(data): \n",
    "    return {\"text\": data['Series_Title']+ '\\n' + data['Genre']+ '\\n' + data['Overview']+ '\\n'+ data['Director']}\n",
    "\n",
    "movie_dataset = movie_dataset.map(concatenate_text)\n",
    "movie_dataset"
   ]
  },
  {
   "cell_type": "code",
   "execution_count": 4,
   "metadata": {},
   "outputs": [
    {
     "data": {
      "text/plain": [
       "'The Shawshank Redemption\\nDrama\\nTwo imprisoned men bond over a number of years, finding solace and eventual redemption through acts of common decency.\\nFrank Darabont'"
      ]
     },
     "execution_count": 4,
     "metadata": {},
     "output_type": "execute_result"
    }
   ],
   "source": [
    "movie_dataset['text'][0]"
   ]
  },
  {
   "cell_type": "code",
   "execution_count": 5,
   "metadata": {},
   "outputs": [],
   "source": [
    "#Sentence Embedding Model\n",
    "from sentence_transformers import SentenceTransformer\n",
    "\n",
    "# Load the pre-trained model\n",
    "model_name = \"all-mpnet-base-v2\"\n",
    "model = SentenceTransformer(model_name)"
   ]
  },
  {
   "cell_type": "code",
   "execution_count": 6,
   "metadata": {},
   "outputs": [
    {
     "data": {
      "application/vnd.jupyter.widget-view+json": {
       "model_id": "b85ff693a0a84ee597b51c54e37c5dfb",
       "version_major": 2,
       "version_minor": 0
      },
      "text/plain": [
       "Map:   0%|          | 0/1000 [00:00<?, ? examples/s]"
      ]
     },
     "metadata": {},
     "output_type": "display_data"
    }
   ],
   "source": [
    "  # Embed the Text\n",
    "  def embed_text(data):\n",
    "    text = data['text']\n",
    "    embeddings = model.encode(text)  # Get embeddings for the text\n",
    "    return {\"text\": text, \"embedding\": embeddings.tolist()}  # Convert to a list\n",
    "\n",
    "  movie_dataset = movie_dataset.map(embed_text, batched=True)  # Process in batches for efficiency"
   ]
  },
  {
   "cell_type": "code",
   "execution_count": 7,
   "metadata": {},
   "outputs": [
    {
     "name": "stderr",
     "output_type": "stream",
     "text": [
      "C:\\Users\\ragha\\AppData\\Local\\Temp\\ipykernel_2252\\3593757363.py:8: DeprecationWarning: The 'http_auth' parameter is deprecated. Use 'basic_auth' or 'bearer_auth' parameters instead\n",
      "  es = Elasticsearch([\"http://localhost:9200\"], http_auth=(username, password))\n"
     ]
    },
    {
     "name": "stdout",
     "output_type": "stream",
     "text": [
      "Embeddings stored in Elasticsearch!\n"
     ]
    }
   ],
   "source": [
    "from elasticsearch import Elasticsearch\n",
    "\n",
    "# Authentication credentials\n",
    "username = \"devarsh\"\n",
    "password = \"devarsh\"\n",
    "\n",
    "# Connect to Elasticsearch with authentication (adjust details as needed)\n",
    "es = Elasticsearch([\"http://localhost:9200\"], http_auth=(username, password))\n",
    "\n",
    "# Define the index name\n",
    "index_name = \"1000_topmovies\" \n",
    "\n",
    "# Iterate through the dataset and index each record\n",
    "for data in movie_dataset:\n",
    "    text = data[\"text\"]\n",
    "    embedding = data[\"embedding\"]\n",
    "    # Index the document\n",
    "    es.index(index=index_name, body={\"text\": text, \"embedding\": embedding}, id=text)\n",
    "\n",
    "print(\"Embeddings stored in Elasticsearch!\")\n"
   ]
  },
  {
   "cell_type": "code",
   "execution_count": 8,
   "metadata": {},
   "outputs": [
    {
     "name": "stdout",
     "output_type": "stream",
     "text": [
      "Search Results:\n",
      "Result 1:\n",
      "Text: The Incredibles\n",
      "Animation, Action, Adventure\n",
      "A family of undercover superheroes, while trying to live the quiet suburban life, are forced into action to save the world.\n",
      "Brad Bird\n",
      "\n",
      "Result 2:\n",
      "Text: OMG: Oh My God!\n",
      "Comedy, Drama, Fantasy\n",
      "A shopkeeper takes God to court when his shop is destroyed by an earthquake.\n",
      "Umesh Shukla\n",
      "\n",
      "Result 3:\n",
      "Text: The Peanut Butter Falcon\n",
      "Adventure, Comedy, Drama\n",
      "Zak runs away from his care home to make his dream of becoming a wrestler come true.\n",
      "Tyler Nilson\n",
      "\n",
      "Result 4:\n",
      "Text: Shin seiki Evangelion Gekijô-ban: Air/Magokoro wo, kimi ni\n",
      "Animation, Action, Drama\n",
      "Concurrent theatrical ending of the TV series Shin seiki evangerion (1995).\n",
      "Hideaki Anno\n",
      "\n",
      "Result 5:\n",
      "Text: Vampire Hunter D: Bloodlust\n",
      "Animation, Action, Fantasy\n",
      "When a girl is abducted by a vampire, a legendary bounty hunter is hired to bring her back.\n",
      "Yoshiaki Kawajiri\n",
      "\n"
     ]
    }
   ],
   "source": [
    "from sentence_transformers import util\n",
    "\n",
    "# Function to perform semantic search\n",
    "def semantic_search(query, es, model):\n",
    "    # Embed the query\n",
    "    query_embedding = model.encode([query])[0]\n",
    "    \n",
    "    # Search similar embeddings\n",
    "    script_query = {\n",
    "        \"script_score\": {\n",
    "            \"query\": {\"match_all\": {}},\n",
    "            \"script\": {\n",
    "                \"source\": \"cosineSimilarity(params.query_vector, 'embedding') + 1.0\",\n",
    "                \"params\": {\"query_vector\": query_embedding.tolist()}\n",
    "            }\n",
    "        }\n",
    "    }\n",
    "    \n",
    "    # Search with custom scoring\n",
    "    results = es.search(index=index_name, body={\"size\": 5, \"query\": script_query})\n",
    "    \n",
    "    return results['hits']['hits']\n",
    "\n",
    "# Function to print results\n",
    "def print_results(results):\n",
    "    print(\"Search Results:\")\n",
    "    for i, result in enumerate(results):\n",
    "        print(f\"Result {i+1}:\")\n",
    "        print(f\"Text: {result['_source']['text']}\")\n",
    "\n",
    "        print(\"\")\n",
    "\n",
    "# Example usage\n",
    "query = \"\"\n",
    "results = semantic_search(query, es, model)\n",
    "\n",
    "# Print the results\n",
    "print_results(results)\n",
    "\n"
   ]
  }
 ],
 "metadata": {
  "kernelspec": {
   "display_name": "Python 3",
   "language": "python",
   "name": "python3"
  },
  "language_info": {
   "codemirror_mode": {
    "name": "ipython",
    "version": 3
   },
   "file_extension": ".py",
   "mimetype": "text/x-python",
   "name": "python",
   "nbconvert_exporter": "python",
   "pygments_lexer": "ipython3",
   "version": "3.12.2"
  }
 },
 "nbformat": 4,
 "nbformat_minor": 2
}
